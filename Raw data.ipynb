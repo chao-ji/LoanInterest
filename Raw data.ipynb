{
 "cells": [
  {
   "cell_type": "markdown",
   "metadata": {},
   "source": [
    "# 1. Examine the raw data"
   ]
  },
  {
   "cell_type": "code",
   "execution_count": 1,
   "metadata": {
    "collapsed": true
   },
   "outputs": [],
   "source": [
    "import pandas as pd"
   ]
  },
  {
   "cell_type": "markdown",
   "metadata": {},
   "source": [
    "**Read in data set from csv file**"
   ]
  },
  {
   "cell_type": "code",
   "execution_count": 2,
   "metadata": {
    "collapsed": true
   },
   "outputs": [],
   "source": [
    "interest = pd.read_csv(\"Data for Cleaning & Modeling.csv\",\n",
    "                       low_memory=False)\n",
    "columns = pd.read_csv(\"columns.csv\", header=None, index_col=0)"
   ]
  },
  {
   "cell_type": "markdown",
   "metadata": {},
   "source": [
    "**Size: 0.4M observations, 32 columns:**"
   ]
  },
  {
   "cell_type": "code",
   "execution_count": 3,
   "metadata": {
    "collapsed": false
   },
   "outputs": [
    {
     "data": {
      "text/plain": [
       "(400000, 32)"
      ]
     },
     "execution_count": 3,
     "metadata": {},
     "output_type": "execute_result"
    }
   ],
   "source": [
    "interest.shape"
   ]
  },
  {
   "cell_type": "markdown",
   "metadata": {},
   "source": [
    "**Dataset overview:**"
   ]
  },
  {
   "cell_type": "code",
   "execution_count": 4,
   "metadata": {
    "collapsed": false,
    "scrolled": false
   },
   "outputs": [
    {
     "data": {
      "text/html": [
       "<div>\n",
       "<table border=\"1\" class=\"dataframe\">\n",
       "  <thead>\n",
       "    <tr style=\"text-align: right;\">\n",
       "      <th></th>\n",
       "      <th>value (from a sample)</th>\n",
       "      <th>description</th>\n",
       "      <th>non-nan values</th>\n",
       "      <th>dtype</th>\n",
       "    </tr>\n",
       "    <tr>\n",
       "      <th>headers</th>\n",
       "      <th></th>\n",
       "      <th></th>\n",
       "      <th></th>\n",
       "      <th></th>\n",
       "    </tr>\n",
       "  </thead>\n",
       "  <tbody>\n",
       "    <tr>\n",
       "      <th>X1</th>\n",
       "      <td>11.89%</td>\n",
       "      <td>Interest Rate on the loan</td>\n",
       "      <td>338990</td>\n",
       "      <td>object</td>\n",
       "    </tr>\n",
       "    <tr>\n",
       "      <th>X2</th>\n",
       "      <td>54734</td>\n",
       "      <td>A unique id for the loan.</td>\n",
       "      <td>399999</td>\n",
       "      <td>float64</td>\n",
       "    </tr>\n",
       "    <tr>\n",
       "      <th>X3</th>\n",
       "      <td>80364</td>\n",
       "      <td>A unique id assigned for the borrower.</td>\n",
       "      <td>399999</td>\n",
       "      <td>float64</td>\n",
       "    </tr>\n",
       "    <tr>\n",
       "      <th>X4</th>\n",
       "      <td>$25,000</td>\n",
       "      <td>Loan amount requested</td>\n",
       "      <td>399999</td>\n",
       "      <td>object</td>\n",
       "    </tr>\n",
       "    <tr>\n",
       "      <th>X5</th>\n",
       "      <td>$25,000</td>\n",
       "      <td>Loan amount funded</td>\n",
       "      <td>399999</td>\n",
       "      <td>object</td>\n",
       "    </tr>\n",
       "    <tr>\n",
       "      <th>X6</th>\n",
       "      <td>$19,080</td>\n",
       "      <td>Investor-funded portion of loan</td>\n",
       "      <td>399999</td>\n",
       "      <td>object</td>\n",
       "    </tr>\n",
       "    <tr>\n",
       "      <th>X7</th>\n",
       "      <td>36 months</td>\n",
       "      <td>Number of payments (36 or 60)</td>\n",
       "      <td>399999</td>\n",
       "      <td>object</td>\n",
       "    </tr>\n",
       "    <tr>\n",
       "      <th>X8</th>\n",
       "      <td>B</td>\n",
       "      <td>Loan grade</td>\n",
       "      <td>338730</td>\n",
       "      <td>object</td>\n",
       "    </tr>\n",
       "    <tr>\n",
       "      <th>X9</th>\n",
       "      <td>B4</td>\n",
       "      <td>Loan subgrade</td>\n",
       "      <td>338730</td>\n",
       "      <td>object</td>\n",
       "    </tr>\n",
       "    <tr>\n",
       "      <th>X10</th>\n",
       "      <td>NaN</td>\n",
       "      <td>Employer or job title (self-filled)</td>\n",
       "      <td>376018</td>\n",
       "      <td>object</td>\n",
       "    </tr>\n",
       "    <tr>\n",
       "      <th>X11</th>\n",
       "      <td>&lt; 1 year</td>\n",
       "      <td>Number of years employed (0 to 10; 10 = 10 or ...</td>\n",
       "      <td>399999</td>\n",
       "      <td>object</td>\n",
       "    </tr>\n",
       "    <tr>\n",
       "      <th>X12</th>\n",
       "      <td>RENT</td>\n",
       "      <td>Home ownership status: RENT, OWN, MORTGAGE, OT...</td>\n",
       "      <td>338639</td>\n",
       "      <td>object</td>\n",
       "    </tr>\n",
       "    <tr>\n",
       "      <th>X13</th>\n",
       "      <td>85000</td>\n",
       "      <td>Annual income of borrower</td>\n",
       "      <td>338972</td>\n",
       "      <td>float64</td>\n",
       "    </tr>\n",
       "    <tr>\n",
       "      <th>X14</th>\n",
       "      <td>VERIFIED - income</td>\n",
       "      <td>Income verified, not verified, or income sourc...</td>\n",
       "      <td>399999</td>\n",
       "      <td>object</td>\n",
       "    </tr>\n",
       "    <tr>\n",
       "      <th>X15</th>\n",
       "      <td>Aug-09</td>\n",
       "      <td>Date loan was issued</td>\n",
       "      <td>399999</td>\n",
       "      <td>object</td>\n",
       "    </tr>\n",
       "    <tr>\n",
       "      <th>X16</th>\n",
       "      <td>Due to a lack of personal finance education an...</td>\n",
       "      <td>Reason for loan provided by borrower</td>\n",
       "      <td>123561</td>\n",
       "      <td>object</td>\n",
       "    </tr>\n",
       "    <tr>\n",
       "      <th>X17</th>\n",
       "      <td>debt_consolidation</td>\n",
       "      <td>Loan category, as provided by borrower</td>\n",
       "      <td>399999</td>\n",
       "      <td>object</td>\n",
       "    </tr>\n",
       "    <tr>\n",
       "      <th>X18</th>\n",
       "      <td>Debt consolidation for on-time payer</td>\n",
       "      <td>Loan title, as provided by borrower</td>\n",
       "      <td>399982</td>\n",
       "      <td>object</td>\n",
       "    </tr>\n",
       "    <tr>\n",
       "      <th>X19</th>\n",
       "      <td>941xx</td>\n",
       "      <td>First 3 numbers of zip code</td>\n",
       "      <td>399999</td>\n",
       "      <td>object</td>\n",
       "    </tr>\n",
       "    <tr>\n",
       "      <th>X20</th>\n",
       "      <td>CA</td>\n",
       "      <td>State of borrower</td>\n",
       "      <td>399999</td>\n",
       "      <td>object</td>\n",
       "    </tr>\n",
       "    <tr>\n",
       "      <th>X21</th>\n",
       "      <td>19.48</td>\n",
       "      <td>A ratio calculated using the borrower’s total ...</td>\n",
       "      <td>399999</td>\n",
       "      <td>float64</td>\n",
       "    </tr>\n",
       "    <tr>\n",
       "      <th>X22</th>\n",
       "      <td>0</td>\n",
       "      <td>The number of 30+ days past-due incidences of ...</td>\n",
       "      <td>399999</td>\n",
       "      <td>float64</td>\n",
       "    </tr>\n",
       "    <tr>\n",
       "      <th>X23</th>\n",
       "      <td>Feb-94</td>\n",
       "      <td>Date the borrower's earliest reported credit l...</td>\n",
       "      <td>399999</td>\n",
       "      <td>object</td>\n",
       "    </tr>\n",
       "    <tr>\n",
       "      <th>X24</th>\n",
       "      <td>0</td>\n",
       "      <td>Number of inquiries by creditors during the pa...</td>\n",
       "      <td>399999</td>\n",
       "      <td>float64</td>\n",
       "    </tr>\n",
       "    <tr>\n",
       "      <th>X25</th>\n",
       "      <td>NaN</td>\n",
       "      <td>Number of months since the borrower's last del...</td>\n",
       "      <td>181198</td>\n",
       "      <td>float64</td>\n",
       "    </tr>\n",
       "    <tr>\n",
       "      <th>X26</th>\n",
       "      <td>NaN</td>\n",
       "      <td>Number of months since the last public record.</td>\n",
       "      <td>51155</td>\n",
       "      <td>float64</td>\n",
       "    </tr>\n",
       "    <tr>\n",
       "      <th>X27</th>\n",
       "      <td>10</td>\n",
       "      <td>Number of open credit lines in the borrower's ...</td>\n",
       "      <td>399999</td>\n",
       "      <td>float64</td>\n",
       "    </tr>\n",
       "    <tr>\n",
       "      <th>X28</th>\n",
       "      <td>0</td>\n",
       "      <td>Number of derogatory public records</td>\n",
       "      <td>399999</td>\n",
       "      <td>float64</td>\n",
       "    </tr>\n",
       "    <tr>\n",
       "      <th>X29</th>\n",
       "      <td>28854</td>\n",
       "      <td>Total credit revolving balance</td>\n",
       "      <td>399999</td>\n",
       "      <td>float64</td>\n",
       "    </tr>\n",
       "    <tr>\n",
       "      <th>X30</th>\n",
       "      <td>52.10%</td>\n",
       "      <td>Revolving line utilization rate, or the amount...</td>\n",
       "      <td>399733</td>\n",
       "      <td>object</td>\n",
       "    </tr>\n",
       "    <tr>\n",
       "      <th>X31</th>\n",
       "      <td>42</td>\n",
       "      <td>The total number of credit lines currently in ...</td>\n",
       "      <td>399999</td>\n",
       "      <td>float64</td>\n",
       "    </tr>\n",
       "    <tr>\n",
       "      <th>X32</th>\n",
       "      <td>f</td>\n",
       "      <td>The initial listing status of the loan. Possib...</td>\n",
       "      <td>399999</td>\n",
       "      <td>object</td>\n",
       "    </tr>\n",
       "  </tbody>\n",
       "</table>\n",
       "</div>"
      ],
      "text/plain": [
       "                                     value (from a sample)  \\\n",
       "headers                                                      \n",
       "X1                                                  11.89%   \n",
       "X2                                                   54734   \n",
       "X3                                                   80364   \n",
       "X4                                                 $25,000   \n",
       "X5                                                 $25,000   \n",
       "X6                                                 $19,080   \n",
       "X7                                               36 months   \n",
       "X8                                                       B   \n",
       "X9                                                      B4   \n",
       "X10                                                    NaN   \n",
       "X11                                               < 1 year   \n",
       "X12                                                   RENT   \n",
       "X13                                                  85000   \n",
       "X14                                      VERIFIED - income   \n",
       "X15                                                 Aug-09   \n",
       "X16      Due to a lack of personal finance education an...   \n",
       "X17                                     debt_consolidation   \n",
       "X18                   Debt consolidation for on-time payer   \n",
       "X19                                                  941xx   \n",
       "X20                                                     CA   \n",
       "X21                                                  19.48   \n",
       "X22                                                      0   \n",
       "X23                                                 Feb-94   \n",
       "X24                                                      0   \n",
       "X25                                                    NaN   \n",
       "X26                                                    NaN   \n",
       "X27                                                     10   \n",
       "X28                                                      0   \n",
       "X29                                                  28854   \n",
       "X30                                                 52.10%   \n",
       "X31                                                     42   \n",
       "X32                                                      f   \n",
       "\n",
       "                                               description  non-nan values  \\\n",
       "headers                                                                      \n",
       "X1                               Interest Rate on the loan          338990   \n",
       "X2                               A unique id for the loan.          399999   \n",
       "X3                  A unique id assigned for the borrower.          399999   \n",
       "X4                                   Loan amount requested          399999   \n",
       "X5                                      Loan amount funded          399999   \n",
       "X6                         Investor-funded portion of loan          399999   \n",
       "X7                           Number of payments (36 or 60)          399999   \n",
       "X8                                              Loan grade          338730   \n",
       "X9                                           Loan subgrade          338730   \n",
       "X10                    Employer or job title (self-filled)          376018   \n",
       "X11      Number of years employed (0 to 10; 10 = 10 or ...          399999   \n",
       "X12      Home ownership status: RENT, OWN, MORTGAGE, OT...          338639   \n",
       "X13                              Annual income of borrower          338972   \n",
       "X14      Income verified, not verified, or income sourc...          399999   \n",
       "X15                                   Date loan was issued          399999   \n",
       "X16                   Reason for loan provided by borrower          123561   \n",
       "X17                 Loan category, as provided by borrower          399999   \n",
       "X18                    Loan title, as provided by borrower          399982   \n",
       "X19                            First 3 numbers of zip code          399999   \n",
       "X20                                      State of borrower          399999   \n",
       "X21      A ratio calculated using the borrower’s total ...          399999   \n",
       "X22      The number of 30+ days past-due incidences of ...          399999   \n",
       "X23      Date the borrower's earliest reported credit l...          399999   \n",
       "X24      Number of inquiries by creditors during the pa...          399999   \n",
       "X25      Number of months since the borrower's last del...          181198   \n",
       "X26         Number of months since the last public record.           51155   \n",
       "X27      Number of open credit lines in the borrower's ...          399999   \n",
       "X28                    Number of derogatory public records          399999   \n",
       "X29                         Total credit revolving balance          399999   \n",
       "X30      Revolving line utilization rate, or the amount...          399733   \n",
       "X31      The total number of credit lines currently in ...          399999   \n",
       "X32      The initial listing status of the loan. Possib...          399999   \n",
       "\n",
       "           dtype  \n",
       "headers           \n",
       "X1        object  \n",
       "X2       float64  \n",
       "X3       float64  \n",
       "X4        object  \n",
       "X5        object  \n",
       "X6        object  \n",
       "X7        object  \n",
       "X8        object  \n",
       "X9        object  \n",
       "X10       object  \n",
       "X11       object  \n",
       "X12       object  \n",
       "X13      float64  \n",
       "X14       object  \n",
       "X15       object  \n",
       "X16       object  \n",
       "X17       object  \n",
       "X18       object  \n",
       "X19       object  \n",
       "X20       object  \n",
       "X21      float64  \n",
       "X22      float64  \n",
       "X23       object  \n",
       "X24      float64  \n",
       "X25      float64  \n",
       "X26      float64  \n",
       "X27      float64  \n",
       "X28      float64  \n",
       "X29      float64  \n",
       "X30       object  \n",
       "X31      float64  \n",
       "X32       object  "
      ]
     },
     "execution_count": 4,
     "metadata": {},
     "output_type": "execute_result"
    }
   ],
   "source": [
    "overview = pd.concat([interest.iloc[0, :], columns, interest.count(), interest.dtypes], axis=1)\n",
    "overview.columns = [\"value (from a sample)\", \"description\", \"non-nan values\", \"dtype\"]\n",
    "overview.index.name = \"headers\"\n",
    "overview"
   ]
  },
  {
   "cell_type": "markdown",
   "metadata": {},
   "source": [
    "## 1.1 Non-numeric features (categorical, ordinal, text)"
   ]
  },
  {
   "cell_type": "markdown",
   "metadata": {},
   "source": [
    "**Number of payments (36 or 60):**"
   ]
  },
  {
   "cell_type": "code",
   "execution_count": 5,
   "metadata": {
    "collapsed": false
   },
   "outputs": [
    {
     "data": {
      "text/plain": [
       " 36 months    292369\n",
       " 60 months    107630\n",
       "Name: X7, dtype: int64"
      ]
     },
     "execution_count": 5,
     "metadata": {},
     "output_type": "execute_result"
    }
   ],
   "source": [
    "interest[\"X7\"].value_counts()"
   ]
  },
  {
   "cell_type": "markdown",
   "metadata": {},
   "source": [
    "**Loan grade:**"
   ]
  },
  {
   "cell_type": "code",
   "execution_count": 6,
   "metadata": {
    "collapsed": false
   },
   "outputs": [
    {
     "data": {
      "text/plain": [
       "B    101668\n",
       "C     90071\n",
       "D     55621\n",
       "A     53707\n",
       "E     25518\n",
       "F      9784\n",
       "G      2361\n",
       "Name: X8, dtype: int64"
      ]
     },
     "execution_count": 6,
     "metadata": {},
     "output_type": "execute_result"
    }
   ],
   "source": [
    "interest[\"X8\"].value_counts()"
   ]
  },
  {
   "cell_type": "markdown",
   "metadata": {},
   "source": [
    "**Loan subgrade:**"
   ]
  },
  {
   "cell_type": "code",
   "execution_count": 7,
   "metadata": {
    "collapsed": false
   },
   "outputs": [
    {
     "data": {
      "text/plain": [
       "B3    24009\n",
       "B4    22611\n",
       "B2    19853\n",
       "C1    19285\n",
       "C2    19182\n",
       "B5    18301\n",
       "C3    18244\n",
       "C4    17225\n",
       "B1    16894\n",
       "C5    16135\n",
       "A5    15485\n",
       "D1    13840\n",
       "A4    13837\n",
       "D2    12479\n",
       "D3    10818\n",
       "D4    10131\n",
       "A3     9031\n",
       "D5     8353\n",
       "A2     7678\n",
       "A1     7676\n",
       "E1     6408\n",
       "E2     6181\n",
       "E3     4978\n",
       "E4     4291\n",
       "E5     3660\n",
       "F1     2878\n",
       "F2     2202\n",
       "F3     2022\n",
       "F4     1537\n",
       "F5     1145\n",
       "G1      790\n",
       "G2      598\n",
       "G3      428\n",
       "G4      300\n",
       "G5      245\n",
       "Name: X9, dtype: int64"
      ]
     },
     "execution_count": 7,
     "metadata": {},
     "output_type": "execute_result"
    }
   ],
   "source": [
    "interest[\"X9\"].value_counts()"
   ]
  },
  {
   "cell_type": "markdown",
   "metadata": {},
   "source": [
    "**Employer or job title (self-filled):**"
   ]
  },
  {
   "cell_type": "code",
   "execution_count": 8,
   "metadata": {
    "collapsed": false
   },
   "outputs": [
    {
     "data": {
      "text/plain": [
       "array([nan, 'CNN', 'Web Programmer', ..., 'Program/Project Mgmt', 'Polie',\n",
       "       'Senior Creative Designer/Ad Sales'], dtype=object)"
      ]
     },
     "execution_count": 8,
     "metadata": {},
     "output_type": "execute_result"
    }
   ],
   "source": [
    "interest[\"X10\"].unique()"
   ]
  },
  {
   "cell_type": "markdown",
   "metadata": {},
   "source": [
    "**Number of years employed (0 to 10; 10 = 10 or more):**"
   ]
  },
  {
   "cell_type": "code",
   "execution_count": 9,
   "metadata": {
    "collapsed": false
   },
   "outputs": [
    {
     "data": {
      "text/plain": [
       "10+ years    128060\n",
       "2 years       35427\n",
       "3 years       31428\n",
       "< 1 year      30607\n",
       "5 years       27277\n",
       "1 year        25321\n",
       "4 years       24035\n",
       "6 years       23062\n",
       "7 years       22837\n",
       "8 years       19139\n",
       "n/a           17537\n",
       "9 years       15269\n",
       "Name: X11, dtype: int64"
      ]
     },
     "execution_count": 9,
     "metadata": {},
     "output_type": "execute_result"
    }
   ],
   "source": [
    "interest[\"X11\"].value_counts()"
   ]
  },
  {
   "cell_type": "markdown",
   "metadata": {},
   "source": [
    "**Home ownership status: RENT, OWN, MORTGAGE, OTHER:**"
   ]
  },
  {
   "cell_type": "code",
   "execution_count": 10,
   "metadata": {
    "collapsed": false
   },
   "outputs": [
    {
     "data": {
      "text/plain": [
       "MORTGAGE    172112\n",
       "RENT        136778\n",
       "OWN          29588\n",
       "OTHER          124\n",
       "NONE            36\n",
       "ANY              1\n",
       "Name: X12, dtype: int64"
      ]
     },
     "execution_count": 10,
     "metadata": {},
     "output_type": "execute_result"
    }
   ],
   "source": [
    "interest[\"X12\"].value_counts()"
   ]
  },
  {
   "cell_type": "markdown",
   "metadata": {},
   "source": [
    "**Income verified, not verified, or income source was verified:**"
   ]
  },
  {
   "cell_type": "code",
   "execution_count": 11,
   "metadata": {
    "collapsed": false
   },
   "outputs": [
    {
     "data": {
      "text/plain": [
       "VERIFIED - income           149686\n",
       "not verified                127220\n",
       "VERIFIED - income source    123093\n",
       "Name: X14, dtype: int64"
      ]
     },
     "execution_count": 11,
     "metadata": {},
     "output_type": "execute_result"
    }
   ],
   "source": [
    "interest[\"X14\"].value_counts()"
   ]
  },
  {
   "cell_type": "markdown",
   "metadata": {},
   "source": [
    "**Date loan was issued:**"
   ]
  },
  {
   "cell_type": "code",
   "execution_count": 12,
   "metadata": {
    "collapsed": false
   },
   "outputs": [
    {
     "data": {
      "text/plain": [
       "array(['Aug-09', 'May-08', 'Aug-14', 'Mar-10', 'Nov-09', 'Aug-12',\n",
       "       'Apr-08', 'Sep-09', 'Feb-10', 'Apr-10', 'Feb-09', 'Dec-08',\n",
       "       'Aug-10', 'Jun-08', 'Oct-09', 'Mar-08', 'Aug-08', 'May-10',\n",
       "       'Jul-07', 'Sep-07', 'Jun-07', 'Aug-07', 'Oct-07', 'Nov-07',\n",
       "       'Dec-07', 'Jan-08', 'Feb-08', 'Nov-08', 'Jul-08', 'May-11',\n",
       "       'Dec-14', 'Jan-09', 'Jul-10', 'Sep-08', 'Oct-08', 'Oct-13',\n",
       "       'Jun-09', 'Jun-10', 'Mar-09', 'Feb-11', 'Dec-10', 'Jan-10',\n",
       "       'Oct-14', 'Nov-10', 'Apr-09', 'May-09', 'Jul-09', 'Jan-13',\n",
       "       'Nov-14', 'Dec-09', 'Jul-14', 'Jun-11', 'Jul-11', 'Sep-10',\n",
       "       'Jan-12', 'May-13', 'Jun-12', 'Mar-11', 'Oct-10', 'Nov-11',\n",
       "       'Jan-14', 'Jan-11', 'Apr-12', 'Feb-12', 'Mar-12', 'Apr-11',\n",
       "       'Jun-13', 'Sep-11', 'Sep-14', 'Jul-12', 'Oct-11', 'Mar-13',\n",
       "       'May-12', 'Apr-14', 'Jun-14', 'Aug-13', 'Aug-11', 'Nov-12',\n",
       "       'Sep-12', 'Dec-12', 'Dec-11', 'Oct-12', 'Mar-14', 'Dec-13',\n",
       "       'Sep-13', 'Feb-13', 'Feb-14', 'Nov-13', 'Apr-13', 'Jul-13',\n",
       "       'May-14', nan], dtype=object)"
      ]
     },
     "execution_count": 12,
     "metadata": {},
     "output_type": "execute_result"
    }
   ],
   "source": [
    "interest[\"X15\"].unique()"
   ]
  },
  {
   "cell_type": "markdown",
   "metadata": {},
   "source": [
    "**Reason for loan provided by borrower:**"
   ]
  },
  {
   "cell_type": "code",
   "execution_count": 13,
   "metadata": {
    "collapsed": false
   },
   "outputs": [
    {
     "data": {
      "text/plain": [
       "array([ 'Due to a lack of personal finance education and exposure to poor financing skills growing up, I was easy prey for credit predators. I am devoted to becoming debt-free and can assure my lenders that I will pay on-time every time. I have never missed a payment during the last 16 years that I have had credit. ',\n",
       "       'Just want to pay off the last bit of credit card debt at a better rate.',\n",
       "       \"Trying to pay a friend back for apartment broker's fee incurred from as well as credit card stuff.\",\n",
       "       ...,\n",
       "       '  Borrower added on 03/18/14 > To pay off all my high interest rate credit cards<br><br> Borrower added on 03/18/14 > Pay off high interest credit card balances<br>',\n",
       "       '  Borrower added on 03/18/14 > i have two loans i am consolidating.  one for 5197.62 and the other for 8014.28.<br>',\n",
       "       '  Borrower added on 03/18/14 > Consolidating debt into one account.<br>'], dtype=object)"
      ]
     },
     "execution_count": 13,
     "metadata": {},
     "output_type": "execute_result"
    }
   ],
   "source": [
    "interest[\"X16\"].unique()"
   ]
  },
  {
   "cell_type": "markdown",
   "metadata": {},
   "source": [
    "**Loan category, as provided by borrower:**"
   ]
  },
  {
   "cell_type": "code",
   "execution_count": 14,
   "metadata": {
    "collapsed": false
   },
   "outputs": [
    {
     "data": {
      "text/plain": [
       "array(['debt_consolidation', 'credit_card', 'car', 'home_improvement',\n",
       "       'small_business', 'major_purchase', 'moving', 'other', 'house',\n",
       "       'vacation', 'educational', 'wedding', 'medical', 'renewable_energy',\n",
       "       nan], dtype=object)"
      ]
     },
     "execution_count": 14,
     "metadata": {},
     "output_type": "execute_result"
    }
   ],
   "source": [
    "interest[\"X17\"].unique()"
   ]
  },
  {
   "cell_type": "markdown",
   "metadata": {},
   "source": [
    "**Loan title, as provided by borrower:**"
   ]
  },
  {
   "cell_type": "code",
   "execution_count": 15,
   "metadata": {
    "collapsed": false
   },
   "outputs": [
    {
     "data": {
      "text/plain": [
       "array(['Debt consolidation for on-time payer', 'Credit Card payoff',\n",
       "       'mlue', ..., 'debt paid in full ', 'STAPLES',\n",
       "       'Credit CardConsolidation'], dtype=object)"
      ]
     },
     "execution_count": 15,
     "metadata": {},
     "output_type": "execute_result"
    }
   ],
   "source": [
    "interest[\"X18\"].unique()"
   ]
  },
  {
   "cell_type": "markdown",
   "metadata": {},
   "source": [
    "**First 3 numbers of zip code:**"
   ]
  },
  {
   "cell_type": "code",
   "execution_count": 16,
   "metadata": {
    "collapsed": false
   },
   "outputs": [
    {
     "data": {
      "text/plain": [
       "945xx    4622\n",
       "112xx    4391\n",
       "750xx    4341\n",
       "606xx    4041\n",
       "100xx    3834\n",
       "900xx    3586\n",
       "300xx    3531\n",
       "070xx    3524\n",
       "331xx    3382\n",
       "770xx    3122\n",
       "917xx    3041\n",
       "891xx    2867\n",
       "104xx    2774\n",
       "330xx    2753\n",
       "117xx    2751\n",
       "921xx    2737\n",
       "926xx    2625\n",
       "913xx    2504\n",
       "852xx    2458\n",
       "113xx    2336\n",
       "925xx    2297\n",
       "021xx    2172\n",
       "080xx    2139\n",
       "941xx    2136\n",
       "334xx    2113\n",
       "980xx    2025\n",
       "601xx    1999\n",
       "928xx    1999\n",
       "604xx    1999\n",
       "600xx    1982\n",
       "         ... \n",
       "528xx       2\n",
       "523xx       2\n",
       "942xx       2\n",
       "203xx       2\n",
       "093xx       2\n",
       "007xx       2\n",
       "889xx       1\n",
       "901xx       1\n",
       "569xx       1\n",
       "663xx       1\n",
       "524xx       1\n",
       "965xx       1\n",
       "587xx       1\n",
       "511xx       1\n",
       "340xx       1\n",
       "938xx       1\n",
       "643xx       1\n",
       "909xx       1\n",
       "049xx       1\n",
       "861xx       1\n",
       "008xx       1\n",
       "516xx       1\n",
       "510xx       1\n",
       "502xx       1\n",
       "621xx       1\n",
       "522xx       1\n",
       "888xx       1\n",
       "689xx       1\n",
       "375xx       1\n",
       "832xx       1\n",
       "Name: X19, dtype: int64"
      ]
     },
     "execution_count": 16,
     "metadata": {},
     "output_type": "execute_result"
    }
   ],
   "source": [
    "interest[\"X19\"].value_counts()"
   ]
  },
  {
   "cell_type": "markdown",
   "metadata": {},
   "source": [
    "**State of borrower:**"
   ]
  },
  {
   "cell_type": "code",
   "execution_count": 17,
   "metadata": {
    "collapsed": false
   },
   "outputs": [
    {
     "data": {
      "text/plain": [
       "CA    62194\n",
       "NY    34557\n",
       "TX    31277\n",
       "FL    26991\n",
       "IL    15877\n",
       "NJ    15574\n",
       "PA    13983\n",
       "OH    12970\n",
       "GA    12755\n",
       "VA    12252\n",
       "NC    10875\n",
       "MI     9857\n",
       "MA     9527\n",
       "MD     9414\n",
       "WA     9144\n",
       "AZ     9134\n",
       "CO     8417\n",
       "MN     6907\n",
       "MO     6434\n",
       "CT     6175\n",
       "NV     5594\n",
       "IN     5449\n",
       "OR     5171\n",
       "WI     5000\n",
       "AL     4993\n",
       "TN     4970\n",
       "LA     4770\n",
       "SC     4731\n",
       "KY     3756\n",
       "KS     3640\n",
       "OK     3546\n",
       "AR     2971\n",
       "UT     2959\n",
       "NM     2190\n",
       "HI     2124\n",
       "WV     2064\n",
       "NH     1923\n",
       "RI     1758\n",
       "DC     1267\n",
       "MT     1188\n",
       "AK     1108\n",
       "DE     1072\n",
       "WY      983\n",
       "SD      854\n",
       "MS      828\n",
       "VT      748\n",
       "ID        9\n",
       "NE        8\n",
       "IA        7\n",
       "ME        4\n",
       "Name: X20, dtype: int64"
      ]
     },
     "execution_count": 17,
     "metadata": {},
     "output_type": "execute_result"
    }
   ],
   "source": [
    "interest[\"X20\"].value_counts()"
   ]
  },
  {
   "cell_type": "markdown",
   "metadata": {},
   "source": [
    "**The initial listing status of the loan. Possible values are – W, F:**"
   ]
  },
  {
   "cell_type": "code",
   "execution_count": 18,
   "metadata": {
    "collapsed": false
   },
   "outputs": [
    {
     "data": {
      "text/plain": [
       "f    274313\n",
       "w    125686\n",
       "Name: X32, dtype: int64"
      ]
     },
     "execution_count": 18,
     "metadata": {},
     "output_type": "execute_result"
    }
   ],
   "source": [
    "interest[\"X32\"].value_counts()"
   ]
  },
  {
   "cell_type": "markdown",
   "metadata": {},
   "source": [
    "**All other features are convertable tonumeric**"
   ]
  }
 ],
 "metadata": {
  "anaconda-cloud": {},
  "kernelspec": {
   "display_name": "Python [conda root]",
   "language": "python",
   "name": "conda-root-py"
  },
  "language_info": {
   "codemirror_mode": {
    "name": "ipython",
    "version": 2
   },
   "file_extension": ".py",
   "mimetype": "text/x-python",
   "name": "python",
   "nbconvert_exporter": "python",
   "pygments_lexer": "ipython2",
   "version": "2.7.12"
  }
 },
 "nbformat": 4,
 "nbformat_minor": 1
}

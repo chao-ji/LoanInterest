{
 "cells": [
  {
   "cell_type": "markdown",
   "metadata": {},
   "source": [
    "# Missing value imputation"
   ]
  },
  {
   "cell_type": "code",
   "execution_count": 1,
   "metadata": {
    "collapsed": true
   },
   "outputs": [],
   "source": [
    "import pickle\n",
    "import pandas as pd\n",
    "import numpy as np\n",
    "import matplotlib.pyplot as plt"
   ]
  },
  {
   "cell_type": "code",
   "execution_count": 2,
   "metadata": {
    "collapsed": true
   },
   "outputs": [],
   "source": [
    "interest = pickle.load(open(\"interest.pickle\"))"
   ]
  },
  {
   "cell_type": "code",
   "execution_count": 3,
   "metadata": {
    "collapsed": false
   },
   "outputs": [
    {
     "data": {
      "text/plain": [
       "(338989, 30)"
      ]
     },
     "execution_count": 3,
     "metadata": {},
     "output_type": "execute_result"
    }
   ],
   "source": [
    "interest.shape"
   ]
  },
  {
   "cell_type": "markdown",
   "metadata": {},
   "source": [
    "## Missing value"
   ]
  },
  {
   "cell_type": "code",
   "execution_count": 4,
   "metadata": {
    "collapsed": false
   },
   "outputs": [
    {
     "data": {
      "text/html": [
       "<div>\n",
       "<table border=\"1\" class=\"dataframe\">\n",
       "  <thead>\n",
       "    <tr style=\"text-align: right;\">\n",
       "      <th></th>\n",
       "      <th>Count of missing values</th>\n",
       "      <th>dtype</th>\n",
       "    </tr>\n",
       "  </thead>\n",
       "  <tbody>\n",
       "    <tr>\n",
       "      <th>X1</th>\n",
       "      <td>0</td>\n",
       "      <td>float64</td>\n",
       "    </tr>\n",
       "    <tr>\n",
       "      <th>X4</th>\n",
       "      <td>0</td>\n",
       "      <td>float64</td>\n",
       "    </tr>\n",
       "    <tr>\n",
       "      <th>X5</th>\n",
       "      <td>0</td>\n",
       "      <td>float64</td>\n",
       "    </tr>\n",
       "    <tr>\n",
       "      <th>X6</th>\n",
       "      <td>0</td>\n",
       "      <td>float64</td>\n",
       "    </tr>\n",
       "    <tr>\n",
       "      <th>X8</th>\n",
       "      <td>51866</td>\n",
       "      <td>float64</td>\n",
       "    </tr>\n",
       "    <tr>\n",
       "      <th>X9</th>\n",
       "      <td>51866</td>\n",
       "      <td>float64</td>\n",
       "    </tr>\n",
       "    <tr>\n",
       "      <th>X11</th>\n",
       "      <td>14794</td>\n",
       "      <td>float64</td>\n",
       "    </tr>\n",
       "    <tr>\n",
       "      <th>X13</th>\n",
       "      <td>51751</td>\n",
       "      <td>float64</td>\n",
       "    </tr>\n",
       "    <tr>\n",
       "      <th>X15</th>\n",
       "      <td>0</td>\n",
       "      <td>float64</td>\n",
       "    </tr>\n",
       "    <tr>\n",
       "      <th>X21</th>\n",
       "      <td>0</td>\n",
       "      <td>float64</td>\n",
       "    </tr>\n",
       "    <tr>\n",
       "      <th>X22</th>\n",
       "      <td>0</td>\n",
       "      <td>float64</td>\n",
       "    </tr>\n",
       "    <tr>\n",
       "      <th>X23</th>\n",
       "      <td>0</td>\n",
       "      <td>float64</td>\n",
       "    </tr>\n",
       "    <tr>\n",
       "      <th>X24</th>\n",
       "      <td>0</td>\n",
       "      <td>float64</td>\n",
       "    </tr>\n",
       "    <tr>\n",
       "      <th>X25</th>\n",
       "      <td>185456</td>\n",
       "      <td>float64</td>\n",
       "    </tr>\n",
       "    <tr>\n",
       "      <th>X26</th>\n",
       "      <td>295589</td>\n",
       "      <td>float64</td>\n",
       "    </tr>\n",
       "    <tr>\n",
       "      <th>X27</th>\n",
       "      <td>0</td>\n",
       "      <td>float64</td>\n",
       "    </tr>\n",
       "    <tr>\n",
       "      <th>X28</th>\n",
       "      <td>0</td>\n",
       "      <td>float64</td>\n",
       "    </tr>\n",
       "    <tr>\n",
       "      <th>X29</th>\n",
       "      <td>0</td>\n",
       "      <td>float64</td>\n",
       "    </tr>\n",
       "    <tr>\n",
       "      <th>X30</th>\n",
       "      <td>224</td>\n",
       "      <td>float64</td>\n",
       "    </tr>\n",
       "    <tr>\n",
       "      <th>X31</th>\n",
       "      <td>0</td>\n",
       "      <td>float64</td>\n",
       "    </tr>\n",
       "    <tr>\n",
       "      <th>X7_ 36 months</th>\n",
       "      <td>0</td>\n",
       "      <td>uint8</td>\n",
       "    </tr>\n",
       "    <tr>\n",
       "      <th>X7_ 60 months</th>\n",
       "      <td>0</td>\n",
       "      <td>uint8</td>\n",
       "    </tr>\n",
       "    <tr>\n",
       "      <th>X12_MORTGAGE</th>\n",
       "      <td>0</td>\n",
       "      <td>uint8</td>\n",
       "    </tr>\n",
       "    <tr>\n",
       "      <th>X12_OWN</th>\n",
       "      <td>0</td>\n",
       "      <td>uint8</td>\n",
       "    </tr>\n",
       "    <tr>\n",
       "      <th>X12_RENT</th>\n",
       "      <td>0</td>\n",
       "      <td>uint8</td>\n",
       "    </tr>\n",
       "    <tr>\n",
       "      <th>X14_VERIFIED - income</th>\n",
       "      <td>0</td>\n",
       "      <td>uint8</td>\n",
       "    </tr>\n",
       "    <tr>\n",
       "      <th>X14_VERIFIED - income source</th>\n",
       "      <td>0</td>\n",
       "      <td>uint8</td>\n",
       "    </tr>\n",
       "    <tr>\n",
       "      <th>X14_not verified</th>\n",
       "      <td>0</td>\n",
       "      <td>uint8</td>\n",
       "    </tr>\n",
       "    <tr>\n",
       "      <th>X32_f</th>\n",
       "      <td>0</td>\n",
       "      <td>uint8</td>\n",
       "    </tr>\n",
       "    <tr>\n",
       "      <th>X32_w</th>\n",
       "      <td>0</td>\n",
       "      <td>uint8</td>\n",
       "    </tr>\n",
       "  </tbody>\n",
       "</table>\n",
       "</div>"
      ],
      "text/plain": [
       "                              Count of missing values    dtype\n",
       "X1                                                  0  float64\n",
       "X4                                                  0  float64\n",
       "X5                                                  0  float64\n",
       "X6                                                  0  float64\n",
       "X8                                              51866  float64\n",
       "X9                                              51866  float64\n",
       "X11                                             14794  float64\n",
       "X13                                             51751  float64\n",
       "X15                                                 0  float64\n",
       "X21                                                 0  float64\n",
       "X22                                                 0  float64\n",
       "X23                                                 0  float64\n",
       "X24                                                 0  float64\n",
       "X25                                            185456  float64\n",
       "X26                                            295589  float64\n",
       "X27                                                 0  float64\n",
       "X28                                                 0  float64\n",
       "X29                                                 0  float64\n",
       "X30                                               224  float64\n",
       "X31                                                 0  float64\n",
       "X7_ 36 months                                       0    uint8\n",
       "X7_ 60 months                                       0    uint8\n",
       "X12_MORTGAGE                                        0    uint8\n",
       "X12_OWN                                             0    uint8\n",
       "X12_RENT                                            0    uint8\n",
       "X14_VERIFIED - income                               0    uint8\n",
       "X14_VERIFIED - income source                        0    uint8\n",
       "X14_not verified                                    0    uint8\n",
       "X32_f                                               0    uint8\n",
       "X32_w                                               0    uint8"
      ]
     },
     "execution_count": 4,
     "metadata": {},
     "output_type": "execute_result"
    }
   ],
   "source": [
    "df = pd.concat([len(interest) - interest.count(), interest.dtypes], axis=1)\n",
    "df.columns = [\"Count of missing values\", \"dtype\"]\n",
    "df"
   ]
  },
  {
   "cell_type": "markdown",
   "metadata": {},
   "source": [
    "**X25, X26 contains way too many missing values with respect to the total number of data. Remove**  "
   ]
  },
  {
   "cell_type": "code",
   "execution_count": 5,
   "metadata": {
    "collapsed": true
   },
   "outputs": [],
   "source": [
    "interest = interest.drop([\"X25\", \"X26\"], axis=1)"
   ]
  },
  {
   "cell_type": "markdown",
   "metadata": {},
   "source": [
    "**Imputattion of missing values: group data by percentile intervals on X1 (target), use the mean of each group**"
   ]
  },
  {
   "cell_type": "code",
   "execution_count": 6,
   "metadata": {
    "collapsed": false
   },
   "outputs": [],
   "source": [
    "factor = pd.qcut(interest[\"X1\"], 20)"
   ]
  },
  {
   "cell_type": "markdown",
   "metadata": {},
   "source": [
    "## X8, loan grade (1,2,...,7 ); X9, loan subgrade (1,2,...,35)"
   ]
  },
  {
   "cell_type": "markdown",
   "metadata": {},
   "source": [
    "**Let's look at X8 first:**"
   ]
  },
  {
   "cell_type": "markdown",
   "metadata": {},
   "source": [
    "**Distribution before imputation:**"
   ]
  },
  {
   "cell_type": "code",
   "execution_count": 7,
   "metadata": {
    "collapsed": false
   },
   "outputs": [
    {
     "data": {
      "image/png": "[encoded data removed]",
      "text/plain": [
       "<matplotlib.figure.Figure at 0x7f11af965290>"
      ]
     },
     "metadata": {},
     "output_type": "display_data"
    }
   ],
   "source": [
    "interest[\"X8\"].value_counts().sort_index().plot(kind=\"bar\")\n",
    "plt.xlabel(\"X8: loan grade\")\n",
    "plt.ylabel(\"Count\")\n",
    "plt.show()"
   ]
  },
  {
   "cell_type": "markdown",
   "metadata": {},
   "source": [
    "**\"Conditional\" mean of each group before imputation:**"
   ]
  },
  {
   "cell_type": "code",
   "execution_count": 8,
   "metadata": {
    "collapsed": false
   },
   "outputs": [
    {
     "data": {
      "text/plain": [
       "X1\n",
       "[0.0542, 0.0712]    1.007339\n",
       "(0.0712, 0.079]     1.000000\n",
       "(0.079, 0.089]      1.010946\n",
       "(0.089, 0.102]      1.941337\n",
       "(0.102, 0.11]       2.003355\n",
       "(0.11, 0.117]       2.015709\n",
       "(0.117, 0.121]      2.008687\n",
       "(0.121, 0.129]      2.081917\n",
       "(0.129, 0.131]      2.302748\n",
       "(0.131, 0.137]      2.736562\n",
       "(0.137, 0.143]      2.805219\n",
       "(0.143, 0.146]      3.026004\n",
       "(0.146, 0.153]      3.061181\n",
       "(0.153, 0.159]      3.288688\n",
       "(0.159, 0.168]      3.492836\n",
       "(0.168, 0.176]      3.760165\n",
       "(0.176, 0.185]      4.054590\n",
       "(0.185, 0.197]      4.304122\n",
       "(0.197, 0.22]       4.919305\n",
       "(0.22, 0.261]       5.807597\n",
       "Name: X8, dtype: float64"
      ]
     },
     "execution_count": 8,
     "metadata": {},
     "output_type": "execute_result"
    }
   ],
   "source": [
    "group_mean = interest[\"X8\"].groupby(factor).apply(np.mean)\n",
    "group_mean.index = group_mean.index.astype(str)\n",
    "group_mean"
   ]
  },
  {
   "cell_type": "code",
   "execution_count": 9,
   "metadata": {
    "collapsed": false
   },
   "outputs": [
    {
     "data": {
      "text/plain": [
       "0    (0.117, 0.121]\n",
       "1     (0.102, 0.11]\n",
       "2    (0.168, 0.176]\n",
       "3    (0.129, 0.131]\n",
       "4    (0.131, 0.137]\n",
       "Name: X1, dtype: category\n",
       "Categories (20, object): [[0.0542, 0.0712] < (0.0712, 0.079] < (0.079, 0.089] < (0.089, 0.102] ... (0.176, 0.185] < (0.185, 0.197] < (0.197, 0.22] < (0.22, 0.261]]"
      ]
     },
     "execution_count": 9,
     "metadata": {},
     "output_type": "execute_result"
    }
   ],
   "source": [
    "factor.head()"
   ]
  },
  {
   "cell_type": "markdown",
   "metadata": {},
   "source": [
    "**Construct the Series for function Series.fillna()**"
   ]
  },
  {
   "cell_type": "code",
   "execution_count": 10,
   "metadata": {
    "collapsed": false
   },
   "outputs": [
    {
     "data": {
      "text/plain": [
       "0    2.008687\n",
       "1    2.003355\n",
       "2    3.760165\n",
       "3    2.302748\n",
       "4    2.736562\n",
       "Name: X1, dtype: category\n",
       "Categories (20, float64): [1.007339 < 1.000000 < 1.010946 < 1.941337 ... 4.054590 < 4.304122 < 4.919305 < 5.807597]"
      ]
     },
     "execution_count": 10,
     "metadata": {},
     "output_type": "execute_result"
    }
   ],
   "source": [
    "fillna_series = factor.map(lambda x: group_mean[x])\n",
    "fillna_series.head()"
   ]
  },
  {
   "cell_type": "markdown",
   "metadata": {},
   "source": [
    "**Replace NA values with conidtional mean:**"
   ]
  },
  {
   "cell_type": "code",
   "execution_count": 11,
   "metadata": {
    "collapsed": false
   },
   "outputs": [],
   "source": [
    "interest[\"X8\"] = interest[\"X8\"].fillna(fillna_series).map(np.round)"
   ]
  },
  {
   "cell_type": "markdown",
   "metadata": {},
   "source": [
    "**Distribution after imputation:**"
   ]
  },
  {
   "cell_type": "code",
   "execution_count": 12,
   "metadata": {
    "collapsed": false
   },
   "outputs": [
    {
     "data": {
      "image/png": "[encoded data removed]",
      "text/plain": [
       "<matplotlib.figure.Figure at 0x7f11ad515c90>"
      ]
     },
     "metadata": {},
     "output_type": "display_data"
    }
   ],
   "source": [
    "interest[\"X8\"].value_counts().sort_index().plot(kind=\"bar\")\n",
    "plt.xlabel(\"X8: loan grade\")\n",
    "plt.ylabel(\"Count\")\n",
    "plt.show()"
   ]
  },
  {
   "cell_type": "markdown",
   "metadata": {},
   "source": [
    "**\"Conditional\" mean of each group before imputation:**"
   ]
  },
  {
   "cell_type": "code",
   "execution_count": 13,
   "metadata": {
    "collapsed": false
   },
   "outputs": [
    {
     "data": {
      "text/plain": [
       "X1\n",
       "[0.0542, 0.0712]    1.006201\n",
       "(0.0712, 0.079]     1.000000\n",
       "(0.079, 0.089]      1.009262\n",
       "(0.089, 0.102]      1.950419\n",
       "(0.102, 0.11]       2.002857\n",
       "(0.11, 0.117]       2.013363\n",
       "(0.117, 0.121]      2.007400\n",
       "(0.121, 0.129]      2.069243\n",
       "(0.129, 0.131]      2.255528\n",
       "(0.131, 0.137]      2.776240\n",
       "(0.137, 0.143]      2.835302\n",
       "(0.143, 0.146]      3.022026\n",
       "(0.146, 0.153]      3.051849\n",
       "(0.153, 0.159]      3.244167\n",
       "(0.159, 0.168]      3.417207\n",
       "(0.168, 0.176]      3.797445\n",
       "(0.176, 0.185]      4.046220\n",
       "(0.185, 0.197]      4.258443\n",
       "(0.197, 0.22]       4.932030\n",
       "(0.22, 0.261]       5.836859\n",
       "Name: X8, dtype: float64"
      ]
     },
     "execution_count": 13,
     "metadata": {},
     "output_type": "execute_result"
    }
   ],
   "source": [
    "group_mean = interest[\"X8\"].groupby(factor).apply(np.mean)\n",
    "group_mean.index = group_mean.index.astype(str)\n",
    "group_mean"
   ]
  },
  {
   "cell_type": "markdown",
   "metadata": {
    "collapsed": true
   },
   "source": [
    "**Repeat this procedure for X9:**"
   ]
  },
  {
   "cell_type": "code",
   "execution_count": 14,
   "metadata": {
    "collapsed": true
   },
   "outputs": [],
   "source": [
    "group_mean = interest[\"X9\"].groupby(factor).apply(np.mean)\n",
    "group_mean.index = group_mean.index.astype(str)\n",
    "fillna_series = factor.map(lambda x: group_mean[x])\n",
    "interest[\"X9\"] = interest[\"X9\"].fillna(fillna_series).map(np.round)"
   ]
  },
  {
   "cell_type": "code",
   "execution_count": 15,
   "metadata": {
    "collapsed": false
   },
   "outputs": [
    {
     "data": {
      "image/png": "[encoded data removed]",
      "text/plain": [
       "<matplotlib.figure.Figure at 0x7f11ad206c90>"
      ]
     },
     "metadata": {},
     "output_type": "display_data"
    }
   ],
   "source": [
    "interest[\"X9\"].value_counts().sort_index().plot(kind=\"bar\")\n",
    "plt.xlabel(\"X9: loan subgrade\")\n",
    "plt.ylabel(\"Count\")\n",
    "plt.show()"
   ]
  },
  {
   "cell_type": "markdown",
   "metadata": {},
   "source": [
    "**Repeat this procedure for X11**"
   ]
  },
  {
   "cell_type": "code",
   "execution_count": 16,
   "metadata": {
    "collapsed": true
   },
   "outputs": [],
   "source": [
    "group_mean = interest[\"X11\"].groupby(factor).apply(np.mean)\n",
    "group_mean.index = group_mean.index.astype(str)\n",
    "fillna_series = factor.map(lambda x: group_mean[x])\n",
    "interest[\"X11\"] = interest[\"X11\"].fillna(fillna_series).map(np.round)"
   ]
  },
  {
   "cell_type": "markdown",
   "metadata": {},
   "source": [
    "**Distribution after imputation**"
   ]
  },
  {
   "cell_type": "code",
   "execution_count": 17,
   "metadata": {
    "collapsed": false
   },
   "outputs": [
    {
     "data": {
      "image/png": "[encoded data removed]",
      "text/plain": [
       "<matplotlib.figure.Figure at 0x7f11ad046390>"
      ]
     },
     "metadata": {},
     "output_type": "display_data"
    }
   ],
   "source": [
    "interest[\"X11\"].value_counts().sort_index().plot(kind=\"bar\")\n",
    "plt.xlabel(\"X11:Number of years employed (0 to 10; 10 = 10 or more)\")\n",
    "plt.ylabel(\"Count\")\n",
    "plt.show()"
   ]
  },
  {
   "cell_type": "markdown",
   "metadata": {},
   "source": [
    "**Repeat this procedure for X13**"
   ]
  },
  {
   "cell_type": "code",
   "execution_count": 18,
   "metadata": {
    "collapsed": false
   },
   "outputs": [],
   "source": [
    "group_mean = interest[\"X13\"].groupby(factor).apply(np.mean)\n",
    "group_mean.index = group_mean.index.astype(str)\n",
    "fillna_series = factor.map(lambda x: group_mean[x])\n",
    "interest[\"X13\"] = interest[\"X13\"].fillna(fillna_series).map(np.round)"
   ]
  },
  {
   "cell_type": "markdown",
   "metadata": {},
   "source": [
    "**Repeat this procedure for X30**"
   ]
  },
  {
   "cell_type": "code",
   "execution_count": 19,
   "metadata": {
    "collapsed": false
   },
   "outputs": [],
   "source": [
    "group_mean = interest[\"X30\"].groupby(factor).apply(np.mean)\n",
    "group_mean.index = group_mean.index.astype(str)\n",
    "fillna_series = factor.map(lambda x: group_mean[x])\n",
    "interest[\"X30\"] = interest[\"X30\"].fillna(fillna_series).map(np.round)"
   ]
  },
  {
   "cell_type": "code",
   "execution_count": 20,
   "metadata": {
    "collapsed": false
   },
   "outputs": [
    {
     "data": {
      "text/html": [
       "<div>\n",
       "<table border=\"1\" class=\"dataframe\">\n",
       "  <thead>\n",
       "    <tr style=\"text-align: right;\">\n",
       "      <th></th>\n",
       "      <th>Count of missing values</th>\n",
       "      <th>dtype</th>\n",
       "    </tr>\n",
       "  </thead>\n",
       "  <tbody>\n",
       "    <tr>\n",
       "      <th>X1</th>\n",
       "      <td>0</td>\n",
       "      <td>float64</td>\n",
       "    </tr>\n",
       "    <tr>\n",
       "      <th>X4</th>\n",
       "      <td>0</td>\n",
       "      <td>float64</td>\n",
       "    </tr>\n",
       "    <tr>\n",
       "      <th>X5</th>\n",
       "      <td>0</td>\n",
       "      <td>float64</td>\n",
       "    </tr>\n",
       "    <tr>\n",
       "      <th>X6</th>\n",
       "      <td>0</td>\n",
       "      <td>float64</td>\n",
       "    </tr>\n",
       "    <tr>\n",
       "      <th>X8</th>\n",
       "      <td>0</td>\n",
       "      <td>float64</td>\n",
       "    </tr>\n",
       "    <tr>\n",
       "      <th>X9</th>\n",
       "      <td>0</td>\n",
       "      <td>float64</td>\n",
       "    </tr>\n",
       "    <tr>\n",
       "      <th>X11</th>\n",
       "      <td>0</td>\n",
       "      <td>float64</td>\n",
       "    </tr>\n",
       "    <tr>\n",
       "      <th>X13</th>\n",
       "      <td>0</td>\n",
       "      <td>float64</td>\n",
       "    </tr>\n",
       "    <tr>\n",
       "      <th>X15</th>\n",
       "      <td>0</td>\n",
       "      <td>float64</td>\n",
       "    </tr>\n",
       "    <tr>\n",
       "      <th>X21</th>\n",
       "      <td>0</td>\n",
       "      <td>float64</td>\n",
       "    </tr>\n",
       "    <tr>\n",
       "      <th>X22</th>\n",
       "      <td>0</td>\n",
       "      <td>float64</td>\n",
       "    </tr>\n",
       "    <tr>\n",
       "      <th>X23</th>\n",
       "      <td>0</td>\n",
       "      <td>float64</td>\n",
       "    </tr>\n",
       "    <tr>\n",
       "      <th>X24</th>\n",
       "      <td>0</td>\n",
       "      <td>float64</td>\n",
       "    </tr>\n",
       "    <tr>\n",
       "      <th>X27</th>\n",
       "      <td>0</td>\n",
       "      <td>float64</td>\n",
       "    </tr>\n",
       "    <tr>\n",
       "      <th>X28</th>\n",
       "      <td>0</td>\n",
       "      <td>float64</td>\n",
       "    </tr>\n",
       "    <tr>\n",
       "      <th>X29</th>\n",
       "      <td>0</td>\n",
       "      <td>float64</td>\n",
       "    </tr>\n",
       "    <tr>\n",
       "      <th>X30</th>\n",
       "      <td>0</td>\n",
       "      <td>float64</td>\n",
       "    </tr>\n",
       "    <tr>\n",
       "      <th>X31</th>\n",
       "      <td>0</td>\n",
       "      <td>float64</td>\n",
       "    </tr>\n",
       "    <tr>\n",
       "      <th>X7_ 36 months</th>\n",
       "      <td>0</td>\n",
       "      <td>uint8</td>\n",
       "    </tr>\n",
       "    <tr>\n",
       "      <th>X7_ 60 months</th>\n",
       "      <td>0</td>\n",
       "      <td>uint8</td>\n",
       "    </tr>\n",
       "    <tr>\n",
       "      <th>X12_MORTGAGE</th>\n",
       "      <td>0</td>\n",
       "      <td>uint8</td>\n",
       "    </tr>\n",
       "    <tr>\n",
       "      <th>X12_OWN</th>\n",
       "      <td>0</td>\n",
       "      <td>uint8</td>\n",
       "    </tr>\n",
       "    <tr>\n",
       "      <th>X12_RENT</th>\n",
       "      <td>0</td>\n",
       "      <td>uint8</td>\n",
       "    </tr>\n",
       "    <tr>\n",
       "      <th>X14_VERIFIED - income</th>\n",
       "      <td>0</td>\n",
       "      <td>uint8</td>\n",
       "    </tr>\n",
       "    <tr>\n",
       "      <th>X14_VERIFIED - income source</th>\n",
       "      <td>0</td>\n",
       "      <td>uint8</td>\n",
       "    </tr>\n",
       "    <tr>\n",
       "      <th>X14_not verified</th>\n",
       "      <td>0</td>\n",
       "      <td>uint8</td>\n",
       "    </tr>\n",
       "    <tr>\n",
       "      <th>X32_f</th>\n",
       "      <td>0</td>\n",
       "      <td>uint8</td>\n",
       "    </tr>\n",
       "    <tr>\n",
       "      <th>X32_w</th>\n",
       "      <td>0</td>\n",
       "      <td>uint8</td>\n",
       "    </tr>\n",
       "  </tbody>\n",
       "</table>\n",
       "</div>"
      ],
      "text/plain": [
       "                              Count of missing values    dtype\n",
       "X1                                                  0  float64\n",
       "X4                                                  0  float64\n",
       "X5                                                  0  float64\n",
       "X6                                                  0  float64\n",
       "X8                                                  0  float64\n",
       "X9                                                  0  float64\n",
       "X11                                                 0  float64\n",
       "X13                                                 0  float64\n",
       "X15                                                 0  float64\n",
       "X21                                                 0  float64\n",
       "X22                                                 0  float64\n",
       "X23                                                 0  float64\n",
       "X24                                                 0  float64\n",
       "X27                                                 0  float64\n",
       "X28                                                 0  float64\n",
       "X29                                                 0  float64\n",
       "X30                                                 0  float64\n",
       "X31                                                 0  float64\n",
       "X7_ 36 months                                       0    uint8\n",
       "X7_ 60 months                                       0    uint8\n",
       "X12_MORTGAGE                                        0    uint8\n",
       "X12_OWN                                             0    uint8\n",
       "X12_RENT                                            0    uint8\n",
       "X14_VERIFIED - income                               0    uint8\n",
       "X14_VERIFIED - income source                        0    uint8\n",
       "X14_not verified                                    0    uint8\n",
       "X32_f                                               0    uint8\n",
       "X32_w                                               0    uint8"
      ]
     },
     "execution_count": 20,
     "metadata": {},
     "output_type": "execute_result"
    }
   ],
   "source": [
    "df = pd.concat([len(interest) - interest.count(), interest.dtypes], axis=1)\n",
    "df.columns = [\"Count of missing values\", \"dtype\"]\n",
    "df"
   ]
  },
  {
   "cell_type": "code",
   "execution_count": 25,
   "metadata": {
    "collapsed": false
   },
   "outputs": [
    {
     "data": {
      "text/plain": [
       "(338989, 28)"
      ]
     },
     "execution_count": 25,
     "metadata": {},
     "output_type": "execute_result"
    }
   ],
   "source": [
    "interest.shape"
   ]
  },
  {
   "cell_type": "code",
   "execution_count": null,
   "metadata": {
    "collapsed": true
   },
   "outputs": [],
   "source": []
  }
 ],
 "metadata": {
  "anaconda-cloud": {},
  "kernelspec": {
   "display_name": "Python [conda root]",
   "language": "python",
   "name": "conda-root-py"
  },
  "language_info": {
   "codemirror_mode": {
    "name": "ipython",
    "version": 2
   },
   "file_extension": ".py",
   "mimetype": "text/x-python",
   "name": "python",
   "nbconvert_exporter": "python",
   "pygments_lexer": "ipython2",
   "version": "2.7.12"
  }
 },
 "nbformat": 4,
 "nbformat_minor": 1
}
